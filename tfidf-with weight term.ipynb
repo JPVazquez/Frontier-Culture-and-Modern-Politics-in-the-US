{
 "cells": [
  {
   "cell_type": "code",
   "execution_count": 1,
   "metadata": {},
   "outputs": [],
   "source": [
    "# change frontier words from Martin to dictonary for vectorizer\n",
    "with open (r'C:\\Users\\Blamo\\Documents\\cs506\\frontier words.txt','r') as f:\n",
    "#    frontier = f.read().replace(\"'\",\"\").replace(\"\\n\",\"\").replace(\" \",\"\").split(',')\n",
    "    frontier = f.read().replace(\"'\",\"\").replace(\"\\n\",\"\").split(',')\n",
    "    frontier1 = []\n",
    "    for i in range(0,len(frontier)):\n",
    "        frontier1.append(frontier[i].lstrip().rstrip())\n",
    "        f_dic = {frontier[i].lstrip().rstrip() : i for i in range(len(frontier))}\n",
    "\n",
    "#    print(frontier1)\n",
    "\n",
    "#    print(len(frontier1))\n",
    "#    print(f_dic)"
   ]
  },
  {
   "cell_type": "code",
   "execution_count": 2,
   "metadata": {},
   "outputs": [],
   "source": [
    "#open all files needed and store it \n",
    "from sklearn.feature_extraction.text import CountVectorizer\n",
    "import os\n",
    "import glob\n",
    "import numpy as np\n",
    "import operator\n",
    "import matplotlib.pyplot as plt\n",
    "\n",
    "from sklearn.feature_extraction.text import TfidfTransformer\n",
    "\n",
    "#i/p document file path and frontier word list, \n",
    "#o/p 1. a list of word number in each document\n",
    "#    2. an array contains each frontier word importance rank\n",
    "#    3. a corpus for next step\n",
    "#    4. the weight parameter matrix\n",
    "def operations(path,f_list): \n",
    "    corpus = [] #list of all document as strings\n",
    "#    tfidf = {}\n",
    "#    listdic = []\n",
    "#    wordlist = []#a list of all different words in each docuement\n",
    "#    tlist = []\n",
    "    \n",
    "    for filename in glob.glob(os.path.join(path, 'Chapter*.txt')):\n",
    "        with open (filename,'r') as C:\n",
    "            corpus.append(C.read()) #get a list of strings\n",
    "#        for i in corpus:#for each chapter separately\n",
    "    vectorizer = CountVectorizer()\n",
    "    X = vectorizer.fit_transform(corpus)\n",
    "    Xarray = X.toarray()#word frequency array for all words in the document词频矩阵\n",
    "    \n",
    "    num = [] #list of number of different words in each document\n",
    "    for i in Xarray:\n",
    "        num.append(np.count_nonzero(i))\n",
    "    \n",
    "    word = vectorizer.get_feature_names()#list of all words in above string\n",
    "            \n",
    "    transformer = TfidfTransformer()\n",
    "    tfidf = transformer.fit_transform(X)\n",
    "    tfidf_array = tfidf.toarray()#array of tfidf scores of all word appeared \n",
    "\n",
    "    list_of_dic = [] #list of sorted tfidf dics, only for words in each doc\n",
    "    for j in range(len(tfidf_array)): #tfidf list for each document, j is each row\n",
    "        dic = {}#{word:tfidf}\n",
    "        for k in range(len(tfidf_array[0])):     #iterate each tfidf score of word in each document\n",
    "            if Xarray[j,k] != 0:\n",
    "                dic[word[k]] = tfidf_array[j,k]\n",
    "        sorted_dic = sorted(dic.items(),key=operator.itemgetter(1),reverse = True)#sort from largest\n",
    "\n",
    "        list_of_dic.append(dict(sorted_dic))\n",
    "    \n",
    "    #get the importance ranks of frontier words\n",
    "    rank_list_total = []\n",
    "    for l in list_of_dic:\n",
    "        doc_rank_list = [] #list of all the frontier words and its rank in words\n",
    "        for m in f_list:\n",
    "            if m in list(l.keys()):\n",
    "                doc_rank_list.append(list(l.keys()).index(m)+1)#because the rank is start from 1\n",
    "            else: \n",
    "                doc_rank_list.append(1)#because for this word the tfidf will be 0, 1 here is just a placeholder\n",
    "        rank_list_total.append(doc_rank_list)\n",
    "        \n",
    "    total_array = np.array(rank_list_total)\n",
    "    total_num = np.array(num)\n",
    "    weight_mtx = total_num[:,None]/total_array\n",
    "    \n",
    "    #print(rank_list_total)\n",
    "#    print(num[0])\n",
    "#    print(total_array[0])\n",
    "#    print(weight_mtx[0])\n",
    "#    print(rank_list_total)\n",
    "#    print(total_array[0,6])\n",
    "            \n",
    "    return corpus, weight_mtx # the output is a tuple\n",
    "             "
   ]
  },
  {
   "cell_type": "code",
   "execution_count": 3,
   "metadata": {},
   "outputs": [],
   "source": [
    "def operations2(path,f_list,name): #used for utf8\n",
    "    corpus = [] #list of all document as strings\n",
    "#    tfidf = {}\n",
    "#    listdic = []\n",
    "#    wordlist = []#a list of all different words in each docuement\n",
    "#    tlist = []\n",
    "    \n",
    "##    for i in np.linspace(1840,2016,num = 45):\n",
    "##        for filename in glob.glob(os.path.join(path, name+'%d.txt'%i)):\n",
    "##            with open (filename,'r',encoding='UTF-8') as C:\n",
    "##                corpus.append(C.read()) #get a list of strings\n",
    "    \n",
    "    for filename in glob.glob(os.path.join(path, name+'*.txt')):\n",
    "        with open (filename,'r',encoding='UTF-8') as C:\n",
    "            corpus.append(C.read()) #get a list of strings\n",
    "#        for i in corpus:#for each chapter separately\n",
    "    vectorizer = CountVectorizer()\n",
    "    X = vectorizer.fit_transform(corpus)\n",
    "    Xarray = X.toarray()#word frequency array for all words in the document词频矩阵\n",
    "    \n",
    "    num = [] #list of number of different words in each document\n",
    "    for i in Xarray:\n",
    "        num.append(np.count_nonzero(i))\n",
    "    \n",
    "    word = vectorizer.get_feature_names()#list of all words in above string\n",
    "            \n",
    "    transformer = TfidfTransformer()\n",
    "    tfidf = transformer.fit_transform(X)\n",
    "    tfidf_array = tfidf.toarray()#array of tfidf scores of all word appeared \n",
    "\n",
    "    list_of_dic = [] #list of sorted tfidf dics, only for words in each doc\n",
    "    for j in range(len(tfidf_array)): #tfidf list for each document, j is each row\n",
    "        dic = {}#{word:tfidf}\n",
    "        for k in range(len(tfidf_array[0])):     #iterate each tfidf score of word in each document\n",
    "            if Xarray[j,k] != 0:\n",
    "                dic[word[k]] = tfidf_array[j,k]\n",
    "        sorted_dic = sorted(dic.items(),key=operator.itemgetter(1),reverse = True)#sort from largest\n",
    "\n",
    "        list_of_dic.append(dict(sorted_dic))\n",
    "    \n",
    "    #get the importance ranks of frontier words\n",
    "    rank_list_total = []\n",
    "    for l in list_of_dic:\n",
    "        doc_rank_list = [] #list of all the frontier words and its rank in words\n",
    "        for m in f_list:\n",
    "            if m in list(l.keys()):\n",
    "                doc_rank_list.append(list(l.keys()).index(m)+1)#because the rank is start from 1\n",
    "            else: \n",
    "                doc_rank_list.append(1)#because for this word the tfidf will be 0, 1 here is just a placeholder\n",
    "        rank_list_total.append(doc_rank_list)\n",
    "        \n",
    "    total_array = np.array(rank_list_total)\n",
    "    total_num = np.array(num)\n",
    "    weight_mtx = total_num[:,None]/total_array\n",
    "    \n",
    "    #print(rank_list_total)\n",
    "#    print(num[0])\n",
    "#    print(total_array[0])\n",
    "#    print(weight_mtx[0])\n",
    "#    print(rank_list_total)\n",
    "#    print(total_array[0,6])\n",
    "            \n",
    "    return corpus, weight_mtx # the output is a tuple"
   ]
  },
  {
   "cell_type": "code",
   "execution_count": 4,
   "metadata": {},
   "outputs": [],
   "source": [
    "#len(operations2(path2,frontier1,'Democratic ')[0])\n",
    "#operations2(path2,frontier1,'Democratic ')"
   ]
  },
  {
   "cell_type": "code",
   "execution_count": 5,
   "metadata": {},
   "outputs": [],
   "source": [
    "#path1 = r'C:\\Users\\Blamo\\Documents\\cs506\\Turner'\n",
    "#corpus1 = operations(path1,frontier1)[0] \n",
    "#weight_mtx = operations(path1,frontier1)[1]\n",
    "#print(weight_mtx)"
   ]
  },
  {
   "cell_type": "code",
   "execution_count": 6,
   "metadata": {},
   "outputs": [],
   "source": [
    "# function to get the tfidf score of each frontier words in every article\n",
    "def tfidf(f_dic,corpus):\n",
    "    vectorizer = CountVectorizer(stop_words=None,max_df=1.0,min_df=1,\n",
    "                                    vocabulary=f_dic,ngram_range=(1,2),\n",
    "                                    token_pattern=r'\\b\\w+\\b')\n",
    "    X = vectorizer.fit_transform(corpus)\n",
    "    #word = vectorizer.get_feature_names()\n",
    "    #print word\n",
    "    #print (X.toarray())\n",
    "\n",
    "    from sklearn.feature_extraction.text import TfidfTransformer\n",
    "\n",
    "    transformer = TfidfTransformer()\n",
    "\n",
    "    tfidf = transformer.fit_transform(X)\n",
    "\n",
    "    array = tfidf.toarray()\n",
    "    \n",
    "    return array\n",
    "    #for i in range(len(array)):\n",
    "    #    print(array[i])\n",
    "        \n",
    "#    print(array)\n",
    "    #print(array.shape)\n",
    "    #print(np.mean(array,axis = 1))"
   ]
  },
  {
   "cell_type": "code",
   "execution_count": 14,
   "metadata": {
    "scrolled": false
   },
   "outputs": [],
   "source": [
    "path1 = r'C:\\Users\\Blamo\\Documents\\cs506\\Turner'\n",
    "\n",
    "final_array = tfidf(f_dic,operations(path1,frontier1)[0])*operations(path1,frontier1)[1] #final arraya\n"
   ]
  },
  {
   "cell_type": "code",
   "execution_count": 15,
   "metadata": {},
   "outputs": [
    {
     "name": "stdout",
     "output_type": "stream",
     "text": [
      "ref_mean =  13.517307330564542\n",
      "ref_max =  372.0801814621384\n",
      "ref_min =  0.0\n",
      "ref_sum =  892.1422838172597\n"
     ]
    }
   ],
   "source": [
    "#import matplotlib.pyplot as plt\n",
    "\n",
    "# get reference score\n",
    "#mean_each_doc = np.mean(final_array,axis = 1)\n",
    "#ref = np.mean(mean_each_doc)\n",
    "#print(\"ref = \", ref)\n",
    "\n",
    "mean_array = np.mean(final_array,axis = 1)\n",
    "max_array = np.max(final_array,axis = 1)\n",
    "min_array = np.min(final_array,axis = 1)\n",
    "sum_array = np.sum(final_array,axis = 1)\n",
    "\n",
    "ref_mean = np.mean(mean_array)\n",
    "ref_max = np.mean(max_array)\n",
    "ref_min = np.mean(min_array)\n",
    "ref_sum = np.mean(sum_array)\n",
    "\n",
    "print(\"ref_mean = \",ref_mean)\n",
    "print(\"ref_max = \",ref_max)\n",
    "print(\"ref_min = \",ref_min)\n",
    "print(\"ref_sum = \",ref_sum)"
   ]
  },
  {
   "cell_type": "code",
   "execution_count": 16,
   "metadata": {},
   "outputs": [],
   "source": [
    "import matplotlib.pyplot as plt\n",
    "\n",
    "path2 = r'C:\\Users\\Blamo\\Documents\\cs506\\political_platform\\political_platforms'\n",
    "\n",
    "x = np.linspace(1840,2016,num = 45)\n",
    "final_array_democ = tfidf(f_dic,operations2(path2,frontier1,'Democratic ')[0])*operations2(path2,frontier1,'Democratic ')[1]\n"
   ]
  },
  {
   "cell_type": "code",
   "execution_count": 17,
   "metadata": {},
   "outputs": [
    {
     "name": "stdout",
     "output_type": "stream",
     "text": [
      "mean_democ =  6.105716328239051\n",
      "max_democ =  287.568606746409\n",
      "min_democ =  0.0\n",
      "sum_democ =  402.9772776637774\n"
     ]
    }
   ],
   "source": [
    "#mean\n",
    "mean_each_doc_democ = np.mean(final_array_democ,axis = 1)\n",
    "mean_democ = np.mean(mean_each_doc_democ)\n",
    "print(\"mean_democ = \",mean_democ)\n",
    "#max\n",
    "max_each_doc_democ = np.max(final_array_democ,axis = 1)\n",
    "max_democ = np.mean(max_each_doc_democ)\n",
    "print(\"max_democ = \",max_democ)\n",
    "#min\n",
    "min_each_doc_democ = np.min(final_array_democ,axis = 1)\n",
    "min_democ = np.mean(min_each_doc_democ)\n",
    "print(\"min_democ = \",min_democ)\n",
    "#sum\n",
    "sum_each_doc_democ = np.sum(final_array_democ,axis = 1)\n",
    "sum_democ = np.mean(sum_each_doc_democ)\n",
    "print(\"sum_democ = \",sum_democ)"
   ]
  },
  {
   "cell_type": "code",
   "execution_count": 18,
   "metadata": {},
   "outputs": [],
   "source": [
    "import matplotlib.pyplot as plt\n",
    "\n",
    "path2 = r'C:\\Users\\Blamo\\Documents\\cs506\\political_platform\\political_platforms'\n",
    "\n",
    "x2 = np.linspace(1856,2016,num = 41)\n",
    "final_array_rep = tfidf(f_dic,operations2(path2,frontier1,'Republicans ')[0])*operations2(path2,frontier1,'Republicans ')[1]\n"
   ]
  },
  {
   "cell_type": "code",
   "execution_count": 19,
   "metadata": {},
   "outputs": [
    {
     "name": "stdout",
     "output_type": "stream",
     "text": [
      "mean_rep =  6.676587086301503\n",
      "max_rep =  247.1110676452431\n",
      "min_rep =  0.0\n",
      "sum_rep =  440.6547476958992\n"
     ]
    }
   ],
   "source": [
    "#mean\n",
    "mean_each_doc_rep = np.mean(final_array_rep,axis = 1)\n",
    "mean_rep = np.mean(mean_each_doc_rep)\n",
    "print(\"mean_rep = \",mean_rep)\n",
    "#max\n",
    "max_each_doc_rep = np.max(final_array_rep,axis = 1)\n",
    "max_rep = np.mean(max_each_doc_rep)\n",
    "print(\"max_rep = \",max_rep)\n",
    "#min\n",
    "min_each_doc_rep = np.min(final_array_rep,axis = 1)\n",
    "min_rep = np.mean(min_each_doc_rep)\n",
    "print(\"min_rep = \",min_rep)\n",
    "#sum\n",
    "sum_each_doc_rep = np.sum(final_array_rep,axis = 1)\n",
    "sum_rep = np.mean(sum_each_doc_rep)\n",
    "print(\"sum_rep = \",sum_rep)\n"
   ]
  },
  {
   "cell_type": "code",
   "execution_count": 23,
   "metadata": {},
   "outputs": [
    {
     "data": {
      "image/png": "[encoded data removed]",
      "text/plain": [
       "<Figure size 432x288 with 1 Axes>"
      ]
     },
     "metadata": {
      "needs_background": "light"
     },
     "output_type": "display_data"
    }
   ],
   "source": [
    "#plt.plot(x,mean_each_doc_democ,'r+')\n",
    "def movingaverage(interval, window_size):\n",
    "    window= np.ones(int(window_size))/float(window_size)\n",
    "    return np.convolve(interval, window, 'same')\n",
    "\n",
    "y = mean_each_doc_democ\n",
    "y2 = mean_each_doc_rep\n",
    "ymax = max_each_doc_democ\n",
    "ymax2 = max_each_doc_rep\n",
    "ymin = min_each_doc_democ\n",
    "ymin2 = min_each_doc_rep\n",
    "ysum = sum_each_doc_democ\n",
    "ysum2 = sum_each_doc_rep\n",
    "\n",
    "#mean\n",
    "#plt.ylim(0,0.1)\n",
    "\n",
    "plt.plot(x2,y2,'r+',label = 'Republicans')\n",
    "y2_av = movingaverage(y2, 10) #average every 40 years\n",
    "plt.plot(x2, y2_av,\"r-\",label = 'Republicans')\n",
    "\n",
    "plt.plot(x,y,\"k.\", label = 'Democratics')\n",
    "#plt.hlines(max(y), min(x), max(x), colors='k', linestyles='solid')\n",
    "y_av = movingaverage(y, 10)\n",
    "plt.plot(x, y_av,\"b-\", label = 'Democratics')\n",
    "\n",
    "plt.title(\"Tf-Idf score trend for different party platforms-using mean\")\n",
    "plt.xlabel(\"Year\")\n",
    "plt.ylabel(\"Tf-Idf\")\n",
    "plt.grid(True)\n",
    "plt.legend(loc= 'best')\n",
    "plt.show()"
   ]
  },
  {
   "cell_type": "code",
   "execution_count": 24,
   "metadata": {},
   "outputs": [
    {
     "data": {
      "image/png": "[encoded data removed]",
      "text/plain": [
       "<Figure size 432x288 with 1 Axes>"
      ]
     },
     "metadata": {
      "needs_background": "light"
     },
     "output_type": "display_data"
    }
   ],
   "source": [
    "#max\n",
    "plt.plot(x2,ymax2,'r+',label = 'Republicans')\n",
    "ymax2_av = movingaverage(ymax2, 10) #average every 40 years\n",
    "plt.plot(x2, ymax2_av,\"r-\",label = 'Republicans')\n",
    "\n",
    "plt.plot(x,ymax,\"k.\", label = 'Democratics')\n",
    "ymax_av = movingaverage(ymax, 10)\n",
    "plt.plot(x, ymax_av,\"b-\", label = 'Democratics')\n",
    "\n",
    "plt.title(\"Tf-Idf score trend for different party platforms-using max\")\n",
    "plt.xlabel(\"Year\")\n",
    "plt.ylabel(\"Tf-Idf\")\n",
    "plt.grid(True)\n",
    "plt.legend(loc= 'best')\n",
    "plt.show()"
   ]
  },
  {
   "cell_type": "code",
   "execution_count": 25,
   "metadata": {},
   "outputs": [
    {
     "data": {
      "image/png": "[encoded data removed]",
      "text/plain": [
       "<Figure size 432x288 with 1 Axes>"
      ]
     },
     "metadata": {
      "needs_background": "light"
     },
     "output_type": "display_data"
    }
   ],
   "source": [
    "#min\n",
    "plt.plot(x2,ymin2,'r+',label = 'Republicans')\n",
    "ymin2_av = movingaverage(ymin2, 10) #average every 40 years\n",
    "plt.plot(x2, ymin2_av,\"r-\",label = 'Republicans')\n",
    "\n",
    "plt.plot(x,ymin,\"k.\", label = 'Democratics')\n",
    "ymin_av = movingaverage(ymin, 10)\n",
    "plt.plot(x, ymin_av,\"b-\", label = 'Democratics')\n",
    "\n",
    "plt.title(\"Tf-Idf score trend for different party platforms-using min\")\n",
    "plt.xlabel(\"Year\")\n",
    "plt.ylabel(\"Tf-Idf\")\n",
    "plt.grid(True)\n",
    "plt.legend(loc= 'best')\n",
    "plt.show()"
   ]
  },
  {
   "cell_type": "code",
   "execution_count": 26,
   "metadata": {},
   "outputs": [
    {
     "data": {
      "image/png": "[encoded data removed]",
      "text/plain": [
       "<Figure size 432x288 with 1 Axes>"
      ]
     },
     "metadata": {
      "needs_background": "light"
     },
     "output_type": "display_data"
    }
   ],
   "source": [
    "#sum\n",
    "plt.plot(x2,ysum2,'r+',label = 'Republicans')\n",
    "ysum2_av = movingaverage(ysum2, 10) #average every 40 years\n",
    "plt.plot(x2, ysum2_av,\"r-\",label = 'Republicans')\n",
    "\n",
    "plt.plot(x,ysum,\"k.\", label = 'Democratics')\n",
    "ysum_av = movingaverage(ysum, 10)\n",
    "plt.plot(x, ysum_av,\"b-\", label = 'Democratics')\n",
    "\n",
    "plt.title(\"Tf-Idf score trend for different party platforms-using sum\")\n",
    "plt.xlabel(\"Year\")\n",
    "plt.ylabel(\"Tf-Idf\")\n",
    "plt.grid(True)\n",
    "plt.legend(loc= 'best')\n",
    "plt.show()"
   ]
  },
  {
   "cell_type": "markdown",
   "metadata": {},
   "source": [
    "From the data we can see that the new term induced enlarges the difference of the score value between known frontier literatures and the test literatures. So it means it has successfully reduced the negative impact of the unique word number and importance rank to the result.\n"
   ]
  },
  {
   "cell_type": "markdown",
   "metadata": {},
   "source": [
    "For the TFIDF part, as it may not be accurate to directly compare the TFIDF score of same word in different documents (Because the word with different TFIDF score just related to the appearing frequency but it is the comparison in appearing frequency across all words in that document which decide the importance of that word in the document. So a word with different TFIDF score in two documents may have same importance in both documents.), so we time each TFIDF score in one document with a weight which equals to the importance of the word in the document. i.e. if the word A’s TFIDF score is 3rd highest and there’re 50 different words in that document, the weight will be 3/50. So the result will be\n",
    "\n",
    "(time a word appear in a doc)/(word number of a document )×log (number of doc)/(number of doc that contains that word+1)×(importance of that word)/(number of different word in that topic)\n",
    "\n",
    "The first term balances different length of documents, the second term balance the words that are common in all documents, the third term balance the number of different words in one document. \n",
    "We do similar procedure as above to get the trend of the frontier score change in literatures across different years for democratic and republican party to see the change of popularity.\n",
    "\n",
    "\n",
    "1. what is tfidf score and why we can use it\n",
    "   The second method we tried was to use Tf-Idf score to indicate how each document's writing s\n",
    "\n",
    "2. How to implement it\n",
    "   For the Tf_Idf part, we built a matrix of Tf-Idf scores of all frontier words with respect to each party platform document. To we reduced the dimension of the features by getting a score of the \"frontierness\" of each document. To do this, we did average(& summation) value of the Tf-Idf score for all the frontier words in a document. Then by comparing the changing trend of the scores from document in time-period basis, we can get a brief result for the popularity trend of frontier words over time within politicians. We also tried to use the minimum and maximum Tf-Idf score of frontier words in each document to find the best way to process the data. The results are shown below:\n",
    "   1. chart\n",
    "   2. plot\n",
    "The chart indicates that there is not much difference between the frontier literatures and the test literatures. After thinking about the reason, this may because it is the comparison in Tf-Idf score across all unique words in that document which decide the importance of that word in the document, not the score alone. So directly compare Tf-Idf score across different documents may not be accurate. As a result, we introduced another term to take the unique word number and rank into account. The results are shown below:\n",
    "   1. chart\n",
    "   2. plot\n",
    "  From the data we can see that the new term induced enlarges the difference of the score value between known frontier literatures and the test literatures. So it means it has reduced the negative impact of the unique word number and importance rank to the result. The trend changes and it has a more accurate reflect to the trend.\n",
    "   \n",
    "   from the trend we can see that the popularity of Frontier words in party platforms has a decending trend before 1930s and rising after that until around 2000. This may because the frontier words were mainly used by farmers and cowboys in the west and not by politicians in formal documents. As time passes, some of the frontier words may be used gradually more often in formal situations and politicians nowadays also tend to use more less formal words to get support from people all different backgrounds.\n"
   ]
  }
 ],
 "metadata": {
  "kernelspec": {
   "display_name": "Python 3",
   "language": "python",
   "name": "python3"
  },
  "language_info": {
   "codemirror_mode": {
    "name": "ipython",
    "version": 3
   },
   "file_extension": ".py",
   "mimetype": "text/x-python",
   "name": "python",
   "nbconvert_exporter": "python",
   "pygments_lexer": "ipython3",
   "version": "3.7.0"
  }
 },
 "nbformat": 4,
 "nbformat_minor": 2
}
